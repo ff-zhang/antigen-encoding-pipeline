{
 "cells": [
  {
   "cell_type": "code",
   "execution_count": null,
   "metadata": {},
   "outputs": [],
   "source": [
    "import os,sys,pickle\n",
    "import pandas as pd\n",
    "import seaborn as sns\n",
    "import matplotlib.pyplot as plt\n",
    "import numpy as np\n",
    "idx = pd.IndexSlice"
   ]
  },
  {
   "cell_type": "code",
   "execution_count": null,
   "metadata": {},
   "outputs": [],
   "source": [
    "peptideDf = pd.read_pickle('../output/parameter-dataframes/params-thomasRecommendedTraining-NewPeptide-Constant velocity.pkl')\n",
    "peptideDf['v0*t0'] = peptideDf['v0']*peptideDf['t0']\n",
    "peptidesToUse = ['N4','Q4','T4','V4','A2','Y3']\n",
    "wellFitPeptidesToUse = ['N4','Q4','T4','A2','Y3']\n",
    "peptidePlottingDf = peptideDf.loc[idx[:,:,peptidesToUse],:].reset_index()\n",
    "#Remove 1nM T4 and V4 for now\n",
    "wellFitPeptidePlottingDf = peptideDf.loc[idx[:,:,wellFitPeptidesToUse],:].reset_index()[(peptidePlottingDf['Peptide'] != \"T4\") | ((peptidePlottingDf['Peptide'] == \"T4\") & (peptidePlottingDf['Concentration'] != \"1nM\"))]\n",
    "sns.set_context('talk')"
   ]
  },
  {
   "cell_type": "code",
   "execution_count": null,
   "metadata": {},
   "outputs": [],
   "source": [
    "metric = 'theta'\n",
    "fg = sns.catplot(data=peptidePlottingDf,kind='bar',x='Peptide',y=metric,hue='Peptide',ci='sd',aspect=1.5,hue_order=peptidesToUse,dodge=False,capsize=0.05,errwidth=1)\n",
    "secondkwargs ={}\n",
    "secondkwargs['dodge'] = False\n",
    "secondkwargs['edgecolor'] = 'black'\n",
    "secondkwargs['linewidth'] = 0.3\n",
    "secondkwargs['zorder'] = 10\n",
    "for axis in fg.axes.flat:\n",
    "    a = sns.stripplot(**secondkwargs,data=peptidePlottingDf,ax=axis,hue='Peptide',x='Peptide',y=metric,hue_order=peptidesToUse,jitter=False)\n",
    "    if not isinstance(a.legend_, type(None)):\n",
    "        a.legend_.remove()"
   ]
  },
  {
   "cell_type": "code",
   "execution_count": null,
   "metadata": {},
   "outputs": [],
   "source": [
    "metric = 'v0'\n",
    "fg = sns.catplot(data=peptidePlottingDf,kind='bar',x='Peptide',y=metric,hue='Peptide',ci='sd',aspect=1.5,hue_order=peptidesToUse,dodge=False,capsize=0.05,errwidth=1)\n",
    "secondkwargs ={}\n",
    "secondkwargs['dodge'] = False\n",
    "secondkwargs['edgecolor'] = 'black'\n",
    "secondkwargs['linewidth'] = 0.3\n",
    "secondkwargs['zorder'] = 10\n",
    "for axis in fg.axes.flat:\n",
    "    a = sns.stripplot(**secondkwargs,data=peptidePlottingDf,ax=axis,hue='Peptide',x='Peptide',y=metric,hue_order=peptidesToUse,jitter=False)\n",
    "    if not isinstance(a.legend_, type(None)):\n",
    "        a.legend_.remove()"
   ]
  },
  {
   "cell_type": "code",
   "execution_count": null,
   "metadata": {},
   "outputs": [],
   "source": [
    "metric = 't0'\n",
    "fg = sns.catplot(data=peptidePlottingDf,kind='bar',x='Peptide',y=metric,hue='Peptide',ci='sd',aspect=1.5,hue_order=peptidesToUse,dodge=False,capsize=0.05,errwidth=1)\n",
    "secondkwargs ={}\n",
    "secondkwargs['dodge'] = False\n",
    "secondkwargs['edgecolor'] = 'black'\n",
    "secondkwargs['linewidth'] = 0.3\n",
    "secondkwargs['zorder'] = 10\n",
    "for axis in fg.axes.flat:\n",
    "    a = sns.stripplot(**secondkwargs,data=peptidePlottingDf,ax=axis,hue='Peptide',x='Peptide',y=metric,hue_order=peptidesToUse,jitter=True)\n",
    "    if not isinstance(a.legend_, type(None)):\n",
    "        a.legend_.remove()"
   ]
  },
  {
   "cell_type": "code",
   "execution_count": null,
   "metadata": {},
   "outputs": [],
   "source": [
    "metric = 'v0*t0'\n",
    "fg = sns.catplot(data=peptidePlottingDf,kind='bar',x='Peptide',y=metric,hue='Peptide',ci='sd',aspect=1.5,hue_order=peptidesToUse,dodge=False,capsize=0.05,errwidth=1)\n",
    "secondkwargs ={}\n",
    "secondkwargs['dodge'] = False\n",
    "secondkwargs['edgecolor'] = 'black'\n",
    "secondkwargs['linewidth'] = 0.3\n",
    "secondkwargs['zorder'] = 10\n",
    "for axis in fg.axes.flat:\n",
    "    a = sns.stripplot(**secondkwargs,data=peptidePlottingDf,ax=axis,hue='Peptide',x='Peptide',y=metric,hue_order=peptidesToUse,jitter=True)\n",
    "    if not isinstance(a.legend_, type(None)):\n",
    "        a.legend_.remove()"
   ]
  },
  {
   "cell_type": "code",
   "execution_count": null,
   "metadata": {},
   "outputs": [],
   "source": [
    "metric = 'theta'\n",
    "fg = sns.catplot(data=peptidePlottingDf,kind='point',x='Peptide',y=metric,ci='sd',aspect=1.5,dodge=False,capsize=0.05,errwidth=1,markers='_',color='k',join=False)\n",
    "secondkwargs ={}\n",
    "secondkwargs['dodge'] = False\n",
    "secondkwargs['edgecolor'] = 'black'\n",
    "secondkwargs['linewidth'] = 0.3\n",
    "secondkwargs['zorder'] = 0\n",
    "secondkwargs['size'] = 8\n",
    "for axis in fg.axes.flat:\n",
    "    a = sns.stripplot(**secondkwargs,data=peptidePlottingDf,ax=axis,hue='Peptide',x='Peptide',y=metric,hue_order=peptidesToUse,jitter=True)\n",
    "    if not isinstance(a.legend_, type(None)):\n",
    "        a.legend_.remove()"
   ]
  },
  {
   "cell_type": "code",
   "execution_count": null,
   "metadata": {},
   "outputs": [],
   "source": [
    "metric = 'theta'\n",
    "print(wellFitPeptidePlottingDf[wellFitPeptidePlottingDf['Peptide'] == 'T4'])\n",
    "fg = sns.FacetGrid(wellFitPeptidePlottingDf,hue='Peptide',hue_order=peptidesToUse,aspect=1.5)\n",
    "fg.map(sns.kdeplot,metric,shade=False)"
   ]
  },
  {
   "cell_type": "code",
   "execution_count": null,
   "metadata": {},
   "outputs": [],
   "source": [
    "metric = 'theta'\n",
    "fg = sns.catplot(data=wellFitPeptidePlottingDf,kind='point',x='Peptide',y=metric,ci='sd',aspect=1.5,dodge=False,capsize=0.05,errwidth=1,markers='_',color='k',join=False)\n",
    "secondkwargs ={}\n",
    "secondkwargs['dodge'] = False\n",
    "secondkwargs['edgecolor'] = 'black'\n",
    "secondkwargs['linewidth'] = 0.3\n",
    "secondkwargs['zorder'] = 0\n",
    "secondkwargs['size'] = 8\n",
    "for axis in fg.axes.flat:\n",
    "    a = sns.stripplot(**secondkwargs,data=wellFitPeptidePlottingDf,ax=axis,hue='Peptide',x='Peptide',y=metric,hue_order=peptidesToUse,jitter=True)\n",
    "    if not isinstance(a.legend_, type(None)):\n",
    "        a.legend_.remove()"
   ]
  },
  {
   "cell_type": "code",
   "execution_count": null,
   "metadata": {},
   "outputs": [],
   "source": [
    "df = pd.read_pickle('/Users/acharsr/Documents/Multiplexed-Flow-Data-Processing/experiments/20190718-PeptideComparison_OT1_Timeseries_20/semiProcessedData/cytokineConcentrationPickleFile-20190718-PeptideComparison_OT1_Timeseries_20-modified.pkl')\n",
    "concdf = df.loc[idx[['IFNg','IL-2','IL-17A','TNFa','IL-6'],peptidesToUse,:]]\n",
    "concPlottingDf = concdf.stack('Time').to_frame('Concentration (nM)').reset_index()\n",
    "print(concPlottingDf)"
   ]
  },
  {
   "cell_type": "code",
   "execution_count": null,
   "metadata": {},
   "outputs": [],
   "source": [
    "fg = sns.relplot(data=concPlottingDf,kind='line',marker='o',x='Time',y='Concentration (nM)',hue='Concentration',col='Peptide',row='Cytokine',facet_kws={'sharey':'row'})\n",
    "fg.set(yscale='log')"
   ]
  },
  {
   "cell_type": "code",
   "execution_count": null,
   "metadata": {},
   "outputs": [],
   "source": [
    "from matplotlib.lines import Line2D\n",
    "metric = 'theta'\n",
    "markers = ['o','v','s','D']\n",
    "\n",
    "fg = sns.catplot(data=peptidePlottingDf,kind='point',x='Peptide',y=metric,ci='sd',aspect=1.5,dodge=False,capsize=0.05,errwidth=1,markers='_',color='k',join=False)\n",
    "secondkwargs ={}\n",
    "secondkwargs['dodge'] = False\n",
    "secondkwargs['edgecolor'] = 'black'\n",
    "secondkwargs['linewidth'] = 0.3\n",
    "secondkwargs['zorder'] = 0\n",
    "secondkwargs['size'] = 8\n",
    "for axis in fg.axes.flat:\n",
    "    for conc,m in zip(pd.unique(peptidePlottingDf['Concentration']),markers):\n",
    "        a = sns.stripplot(**secondkwargs,data=peptidePlottingDf[peptidePlottingDf['Concentration'] == conc],ax=axis,hue='Peptide',x='Peptide',y=metric,hue_order=peptidesToUse,jitter=True,marker=m)\n",
    "        if not isinstance(a.legend_, type(None)):\n",
    "            a.legend_.remove()\n",
    "\n",
    "#Add legend manually:\n",
    "legend_elements = [Line2D([0], [0], marker='o', color='w', label='1uM',\n",
    "                          markerfacecolor='k', markersize=8),\n",
    "                   Line2D([0], [0], marker='v', color='w', label='100nM',\n",
    "                          markerfacecolor='k', markersize=8),\n",
    "                  Line2D([0], [0], marker='s', color='w', label='10nM',\n",
    "                          markerfacecolor='k', markersize=8),\n",
    "                  Line2D([0], [0], marker='d', color='w', label='1nM',\n",
    "                          markerfacecolor='k', markersize=8)]\n",
    "fg.fig.legend(handles=legend_elements,bbox_to_anchor=(1.2, 0.9),frameon=False,title='Concentration')"
   ]
  },
  {
   "cell_type": "code",
   "execution_count": null,
   "metadata": {},
   "outputs": [],
   "source": [
    "fg = sns.catplot(data=peptidePlottingDf,kind='point',x='Peptide',col='Concentration',y=metric)"
   ]
  },
  {
   "cell_type": "code",
   "execution_count": null,
   "metadata": {},
   "outputs": [],
   "source": []
  }
 ],
 "metadata": {
  "kernelspec": {
   "display_name": "Python 3",
   "language": "python",
   "name": "python3"
  },
  "language_info": {
   "codemirror_mode": {
    "name": "ipython",
    "version": 3
   },
   "file_extension": ".py",
   "mimetype": "text/x-python",
   "name": "python",
   "nbconvert_exporter": "python",
   "pygments_lexer": "ipython3",
   "version": "3.7.6"
  }
 },
 "nbformat": 4,
 "nbformat_minor": 4
}
