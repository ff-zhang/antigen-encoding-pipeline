{
 "cells": [
  {
   "cell_type": "markdown",
   "metadata": {},
   "source": [
    "# Notebook to get better overview of experiments\n",
    "- In this notebook, I create a rudimentary structure of a dataframe that could help us slice the right datasets selecting T cell number or WT or new protocol\n",
    "\n",
    "- I just realized it is better to concatenate all data in a single dataframe as this has exactly the indexing I am trying to reproduce\n",
    "\n",
    "- For a single dataframe, only thing that is lacking are the 8 tests that are defined here, but I could easily add these too. Then, should also be a WT/nonWT level.\n",
    "\n",
    "- In this file we exclude antagonism levels, as we have a separate notebooks to visualize this (too messy otherwise)."
   ]
  },
  {
   "cell_type": "code",
   "execution_count": null,
   "metadata": {},
   "outputs": [],
   "source": [
    "import os\n",
    "import pandas as pd\n",
    "import numpy as np"
   ]
  },
  {
   "cell_type": "code",
   "execution_count": null,
   "metadata": {},
   "outputs": [],
   "source": [
    "folder=\"../data/final/\"\n",
    "tests=[\"CD25Mutant\",\"ITAMDeficient\",\"Tumor\",\"TCellNumber\",\"Activation\",\"CAR\",\"TCellType\",\"Macrophages\"]"
   ]
  },
  {
   "cell_type": "code",
   "execution_count": null,
   "metadata": {},
   "outputs": [],
   "source": [
    "df=pd.DataFrame([],columns=[\"Date\",\"Name\",\"Protocol\"]+tests).T\n",
    "unique_levels=[]\n",
    "peptides={}\n",
    "concentrations={}\n",
    "for idx,file in enumerate(os.listdir(folder)):\n",
    "    if not file.endswith(\".pkl\"):\n",
    "        continue\n",
    "    date = file[32:40]\n",
    "    name = file[41:-10]\n",
    "    tmp=pd.read_hdf(\"../output/dataframes/\"+name+\".hdf\")        \n",
    "    \n",
    "    level_names={level:vals for level,vals in zip(tmp.index.names[:-3],tmp.index.levels[:-3])}\n",
    "    [unique_levels.append(level) for level in level_names.keys() if level not in unique_levels]\n",
    "    \n",
    "    if \"Peptide\" in tmp.index.names:\n",
    "        peptides[name]=[peptide for peptide in tmp.index.levels[tmp.index.names.index(\"Peptide\")]]\n",
    "    else: \n",
    "        peptides[name]=np.nan\n",
    "        \n",
    "    if \"Concentration\" in tmp.index.names:\n",
    "        concentrations[name]=[concentration for concentration in tmp.index.levels[tmp.index.names.index(\"Concentration\")]]\n",
    "    else:\n",
    "        concentrations[name]=np.nan\n",
    "        \n",
    "    protocol=\"New\"\n",
    "    if pd.to_datetime(date) < pd.to_datetime(\"20191022\"):\n",
    "        protocol=\"Old\"\n",
    "    exp_test = [level_names if test in name else np.nan for test in tests]\n",
    "\n",
    "    df[idx]=[date,name,protocol]+exp_test\n",
    "    df[idx]\n",
    "df.head()"
   ]
  },
  {
   "cell_type": "code",
   "execution_count": null,
   "metadata": {},
   "outputs": [],
   "source": [
    "df=df.T\n",
    "df.Date=df.Date.astype(\"datetime64\")\n",
    "df=df.sort_values(\"Date\").reset_index(drop=True)\n",
    "df.set_index([\"Date\",\"Name\",\"Protocol\"],inplace=True)\n",
    "df.head()"
   ]
  },
  {
   "cell_type": "code",
   "execution_count": null,
   "metadata": {},
   "outputs": [],
   "source": [
    "# Add empty columns with tests to prepare filling them per experiment\n",
    "df.columns.names=[\"Test\"]\n",
    "df=pd.DataFrame(df.stack(\"Test\"))\n",
    "for level in unique_levels:\n",
    "    df[level]=[np.nan]*len(df)\n",
    "    df[level]=df[level].astype(\"object\")\n",
    "df=df.unstack(\"Test\")"
   ]
  },
  {
   "cell_type": "code",
   "execution_count": null,
   "metadata": {
    "scrolled": true
   },
   "outputs": [],
   "source": [
    "# Loop over dictionaries of experimental conditions (level names and level values)\n",
    "# assign them to the right row/column\n",
    "for idx in df.index:\n",
    "    row=df.loc[idx].dropna() # drop columns without dictionaries\n",
    "    for idy in row.index:\n",
    "        for key in row[idy].keys(): # put the values (list) in the column (key)\n",
    "            df.loc[idx,(key,idy[1])]=[elem for elem in row[idy][key]]\n",
    "df.head()"
   ]
  },
  {
   "cell_type": "code",
   "execution_count": null,
   "metadata": {},
   "outputs": [],
   "source": [
    "# Drop columns without entries and change orientation to add WT peptide and concentration columns\n",
    "df=df.dropna(axis=1,how=\"all\").drop(0,axis=1).swaplevel(axis=1)\n",
    "df=df.stack(\"Test\")\n",
    "df[\"Peptide\"]=pd.Series([np.nan]*len(df),dtype=\"object\")\n",
    "df[\"Concentration\"]=pd.Series([np.nan]*len(df),dtype=\"object\")"
   ]
  },
  {
   "cell_type": "code",
   "execution_count": null,
   "metadata": {
    "scrolled": false
   },
   "outputs": [],
   "source": [
    "# Assign list of peptides and concentrations to the entries in the dataframe\n",
    "for idx in df.index:\n",
    "    data=idx[1]\n",
    "    df.loc[idx,\"Peptide\"]=peptides[data]\n",
    "    df.loc[idx,\"Concentration\"]=concentrations[data]\n",
    "df"
   ]
  },
  {
   "cell_type": "code",
   "execution_count": null,
   "metadata": {},
   "outputs": [],
   "source": [
    "naives=[\"B6\",\"Splenocyte\",\"Naive\",\"None\",\"None\",\"WT\",\"None\",\"100k\",\"OT1\",\"None\",\"0k\",\"N4\",\"1uM\"]\n",
    "naive_dict={col:naive for col,naive in zip(df.columns,naives)}"
   ]
  },
  {
   "cell_type": "code",
   "execution_count": null,
   "metadata": {},
   "outputs": [],
   "source": [
    "def custom_unique(group):\n",
    "    unique_matrix=[]\n",
    "    for col in group.columns:\n",
    "        unique_list=[naive_dict[col]]\n",
    "        for col_list in group[col]:\n",
    "            if type(col_list) == list:\n",
    "                [unique_list.append(elem) for elem in col_list if elem not in unique_list]\n",
    "        unique_matrix.append(unique_list)\n",
    "    \n",
    "    return unique_matrix\n"
   ]
  },
  {
   "cell_type": "code",
   "execution_count": null,
   "metadata": {},
   "outputs": [],
   "source": [
    "B=df.groupby(\"Test\").apply(custom_unique)\n",
    "A=pd.DataFrame([],columns=B.index,index=df.columns)\n",
    "for idx in range(len(B)):\n",
    "    A.iloc[:,idx]=B[idx]\n",
    "A.T"
   ]
  },
  {
   "cell_type": "code",
   "execution_count": null,
   "metadata": {},
   "outputs": [],
   "source": []
  }
 ],
 "metadata": {
  "kernelspec": {
   "display_name": "Python 3",
   "language": "python",
   "name": "python3"
  },
  "language_info": {
   "codemirror_mode": {
    "name": "ipython",
    "version": 3
   },
   "file_extension": ".py",
   "mimetype": "text/x-python",
   "name": "python",
   "nbconvert_exporter": "python",
   "pygments_lexer": "ipython3",
   "version": "3.7.6"
  }
 },
 "nbformat": 4,
 "nbformat_minor": 2
}
