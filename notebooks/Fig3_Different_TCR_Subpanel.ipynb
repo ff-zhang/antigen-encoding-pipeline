{
 "cells": [
  {
   "cell_type": "code",
   "execution_count": null,
   "metadata": {},
   "outputs": [],
   "source": [
    "import os,sys,pickle\n",
    "import pandas as pd\n",
    "import seaborn as sns\n",
    "import matplotlib.pyplot as plt\n",
    "import numpy as np\n",
    "idx=pd.IndexSlice"
   ]
  },
  {
   "cell_type": "code",
   "execution_count": null,
   "metadata": {},
   "outputs": [],
   "source": [
    "tcellTypeDf = pd.read_pickle('../output/parameter-dataframes/params-thomasRecommendedTraining-TCellType-Constant velocity.pkl')\n",
    "tcellTypeDf['v0*t0'] = tcellTypeDf['v0']*tcellTypeDf['t0']\n",
    "print(pd.unique(tcellTypeDf.index.get_level_values('Data')))\n",
    "p14Df = tcellTypeDf.loc['TCellTypeComparison_OT1,P14_Timeseries_3']\n",
    "f5Df = tcellTypeDf.loc['TCellTypeComparison_OT1,P14,F5_Timeseries_2'].loc[idx[['OT1','F5']],:]\n",
    "cd4Df = tcellTypeDf.loc['TCellType_OT1_5CC7_Timeseries_2']\n",
    "sns.set_context('talk')\n",
    "print(tcellTypeDf)"
   ]
  },
  {
   "cell_type": "code",
   "execution_count": null,
   "metadata": {},
   "outputs": [],
   "source": [
    "sns.catplot(data=plottingDfp14,kind='point',x='Peptide',y='theta',hue='Peptide',ci='sd',aspect=1.5)"
   ]
  },
  {
   "cell_type": "code",
   "execution_count": null,
   "metadata": {},
   "outputs": [],
   "source": [
    "sns.catplot(data=plottingDfp14,kind='point',x='Peptide',y='v0',hue='Peptide',col='Concentration',aspect=1.5)"
   ]
  },
  {
   "cell_type": "code",
   "execution_count": null,
   "metadata": {},
   "outputs": [],
   "source": [
    "from matplotlib.lines import Line2D\n",
    "metric = 'theta'\n",
    "markers = ['o','v','s','D']\n",
    "peptidePlottingDf = plottingDfp14\n",
    "print(pd.unique(plottingDfp14['Peptide']))\n",
    "fg = sns.catplot(data=peptidePlottingDf,kind='point',x='Peptide',y=metric,ci='sd',aspect=1.5,dodge=False,capsize=0.05,errwidth=1,markers='_',color='k',join=False)\n",
    "secondkwargs ={}\n",
    "secondkwargs['dodge'] = False\n",
    "secondkwargs['edgecolor'] = 'black'\n",
    "secondkwargs['linewidth'] = 0.3\n",
    "secondkwargs['zorder'] = 0\n",
    "secondkwargs['size'] = 8\n",
    "for axis in fg.axes.flat:\n",
    "    for conc,m in zip(pd.unique(peptidePlottingDf['Concentration']),markers):\n",
    "        a = sns.stripplot(**secondkwargs,data=peptidePlottingDf[peptidePlottingDf['Concentration'] == conc],ax=axis,hue='Peptide',x='Peptide',y=metric,jitter=True,marker=m)\n",
    "        if not isinstance(a.legend_, type(None)):\n",
    "            a.legend_.remove()\n",
    "\n",
    "#Add legend manually:\n",
    "legend_elements = [Line2D([0], [0], marker='o', color='w', label='1uM',\n",
    "                          markerfacecolor='k', markersize=8),\n",
    "                   Line2D([0], [0], marker='v', color='w', label='100nM',\n",
    "                          markerfacecolor='k', markersize=8),\n",
    "                  Line2D([0], [0], marker='s', color='w', label='10nM',\n",
    "                          markerfacecolor='k', markersize=8),\n",
    "                  Line2D([0], [0], marker='d', color='w', label='1nM',\n",
    "                          markerfacecolor='k', markersize=8)]\n",
    "fg.fig.legend(handles=legend_elements,bbox_to_anchor=(1.2, 0.9),frameon=False,title='Concentration')"
   ]
  },
  {
   "cell_type": "code",
   "execution_count": null,
   "metadata": {},
   "outputs": [],
   "source": [
    "from matplotlib.lines import Line2D\n",
    "metric = 'theta'\n",
    "markers = ['o','v','s','D']\n",
    "peptidePlottingDf = f5Df.reset_index()\n",
    "fg = sns.catplot(data=peptidePlottingDf,kind='point',x='Peptide',y=metric,ci='sd',aspect=1.5,dodge=False,capsize=0.05,errwidth=1,markers='_',color='k',join=False)\n",
    "secondkwargs ={}\n",
    "secondkwargs['dodge'] = False\n",
    "secondkwargs['edgecolor'] = 'black'\n",
    "secondkwargs['linewidth'] = 0.3\n",
    "secondkwargs['zorder'] = 0\n",
    "secondkwargs['size'] = 8\n",
    "for axis in fg.axes.flat:\n",
    "    for conc,m in zip(pd.unique(peptidePlottingDf['Concentration']),markers):\n",
    "        a = sns.stripplot(**secondkwargs,data=peptidePlottingDf[peptidePlottingDf['Concentration'] == conc],ax=axis,hue='Peptide',x='Peptide',y=metric,jitter=True,marker=m)\n",
    "        if not isinstance(a.legend_, type(None)):\n",
    "            a.legend_.remove()\n",
    "\n",
    "#Add legend manually:\n",
    "legend_elements = [Line2D([0], [0], marker='o', color='w', label='1uM',\n",
    "                          markerfacecolor='k', markersize=8),\n",
    "                   Line2D([0], [0], marker='v', color='w', label='100nM',\n",
    "                          markerfacecolor='k', markersize=8),\n",
    "                  Line2D([0], [0], marker='s', color='w', label='10nM',\n",
    "                          markerfacecolor='k', markersize=8),\n",
    "                  Line2D([0], [0], marker='d', color='w', label='1nM',\n",
    "                          markerfacecolor='k', markersize=8)]\n",
    "fg.fig.legend(handles=legend_elements,bbox_to_anchor=(1.2, 0.9),frameon=False,title='Concentration')"
   ]
  },
  {
   "cell_type": "code",
   "execution_count": null,
   "metadata": {},
   "outputs": [],
   "source": [
    "from matplotlib.lines import Line2D\n",
    "metric = 'v0'\n",
    "markers = ['o','v','s','D']\n",
    "peptidePlottingDf = cd4Df.reset_index()\n",
    "fg = sns.catplot(data=peptidePlottingDf,kind='point',x='Peptide',y=metric,ci='sd',aspect=1.5,dodge=False,capsize=0.05,errwidth=1,markers='_',color='k',join=False)\n",
    "secondkwargs ={}\n",
    "secondkwargs['dodge'] = False\n",
    "secondkwargs['edgecolor'] = 'black'\n",
    "secondkwargs['linewidth'] = 0.3\n",
    "secondkwargs['zorder'] = 0\n",
    "secondkwargs['size'] = 8\n",
    "for axis in fg.axes.flat:\n",
    "    for conc,m in zip(pd.unique(peptidePlottingDf['Concentration']),markers):\n",
    "        a = sns.stripplot(**secondkwargs,data=peptidePlottingDf[peptidePlottingDf['Concentration'] == conc],ax=axis,hue='Peptide',x='Peptide',y=metric,jitter=True,marker=m)\n",
    "        if not isinstance(a.legend_, type(None)):\n",
    "            a.legend_.remove()\n",
    "\n",
    "#Add legend manually:\n",
    "legend_elements = [Line2D([0], [0], marker='o', color='w', label='1uM',\n",
    "                          markerfacecolor='k', markersize=8),\n",
    "                   Line2D([0], [0], marker='v', color='w', label='100nM',\n",
    "                          markerfacecolor='k', markersize=8),\n",
    "                  Line2D([0], [0], marker='s', color='w', label='10nM',\n",
    "                          markerfacecolor='k', markersize=8),\n",
    "                  Line2D([0], [0], marker='d', color='w', label='1nM',\n",
    "                          markerfacecolor='k', markersize=8)]\n",
    "fg.fig.legend(handles=legend_elements,bbox_to_anchor=(1.2, 0.9),frameon=False,title='Concentration')"
   ]
  },
  {
   "cell_type": "code",
   "execution_count": null,
   "metadata": {},
   "outputs": [],
   "source": []
  }
 ],
 "metadata": {
  "kernelspec": {
   "display_name": "Python 3",
   "language": "python",
   "name": "python3"
  },
  "language_info": {
   "codemirror_mode": {
    "name": "ipython",
    "version": 3
   },
   "file_extension": ".py",
   "mimetype": "text/x-python",
   "name": "python",
   "nbconvert_exporter": "python",
   "pygments_lexer": "ipython3",
   "version": "3.7.6"
  }
 },
 "nbformat": 4,
 "nbformat_minor": 4
}
