{
 "cells": [
  {
   "cell_type": "code",
   "execution_count": null,
   "metadata": {},
   "outputs": [],
   "source": [
    "import os,sys,pickle\n",
    "import pandas as pd\n",
    "import seaborn as sns\n",
    "import matplotlib.pyplot as plt\n",
    "import numpy as np"
   ]
  },
  {
   "cell_type": "code",
   "execution_count": null,
   "metadata": {},
   "outputs": [],
   "source": [
    "macrophageDf = pd.read_pickle('../output/parameter-dataframes/params-thomasRecommendedTraining-Macrophages-Constant velocity.pkl')\n",
    "macrophageDf['v0*t0'] = macrophageDf['v0']*macrophageDf['t0']\n",
    "macrophagePlottingDf = macrophageDf.reset_index()\n",
    "print(macrophagePlottingDf)"
   ]
  },
  {
   "cell_type": "code",
   "execution_count": null,
   "metadata": {},
   "outputs": [],
   "source": [
    "sns.catplot(data=macrophagePlottingDf,kind='point',x='Peptide',y='v0',hue='Peptide',ci='sd',col='APCType',aspect=1.5,col_order=['Splenocyte','Macrophage'],hue_order=['N4','Q4','T4','V4','A2','Y3','G4','None'])"
   ]
  },
  {
   "cell_type": "code",
   "execution_count": null,
   "metadata": {},
   "outputs": [],
   "source": [
    "macrophagePlottingDfNoTLRAgonist = macrophagePlottingDf[macrophagePlottingDf['TLR_Agonist'] == 'None']\n",
    "sns.catplot(data=macrophagePlottingDfNoTLRAgonist,kind='point',x='Peptide',y='v0',hue='Peptide',ci='sd',col='APCType',aspect=1.5,col_order=['Splenocyte','Macrophage'],hue_order=['N4','Q4','T4','V4','A2','Y3','G4','None'])"
   ]
  },
  {
   "cell_type": "code",
   "execution_count": null,
   "metadata": {},
   "outputs": [],
   "source": [
    "fg = sns.catplot(data=macrophagePlottingDf,kind='bar',x='Peptide',y='theta',hue='Peptide',ci='sd',col='APCType',aspect=1.5,col_order=['Splenocyte','Macrophage'],hue_order=['N4','Q4','T4','V4','A2','Y3','G4','None'],dodge=False,capsize=0.05,errwidth=1)\n",
    "secondkwargs ={}\n",
    "secondkwargs['dodge'] = True\n",
    "secondkwargs['edgecolor'] = 'black'\n",
    "secondkwargs['linewidth'] = 0.3\n",
    "secondkwargs['zorder'] = 10\n",
    "NoneType = type(None)\n",
    "for axis,apctype in zip(fg.axes.flat,['Splenocyte','Macrophage']):\n",
    "    a = sns.stripplot(**secondkwargs,data=macrophagePlottingDf[macrophagePlottingDf['APCType'] == apctype],ax=axis,hue='Peptide',x='Peptide',y='theta',hue_order=['N4','Q4','T4','V4','A2','Y3','G4','None'],jitter=False)\n",
    "    if not isinstance(a.legend_, NoneType):\n",
    "        a.legend_.remove()"
   ]
  },
  {
   "cell_type": "code",
   "execution_count": null,
   "metadata": {},
   "outputs": [],
   "source": [
    "fg = sns.catplot(data=macrophagePlottingDf,kind='bar',x='Peptide',y='v0*t0',hue='Peptide',ci='sd',col='APCType',aspect=1.5,col_order=['Splenocyte','Macrophage'],hue_order=['N4','Q4','T4','V4','A2','Y3','G4','None'],dodge=False,capsize=0.05,errwidth=1)\n",
    "secondkwargs ={}\n",
    "secondkwargs['dodge'] = False\n",
    "secondkwargs['edgecolor'] = 'black'\n",
    "secondkwargs['linewidth'] = 0.3\n",
    "secondkwargs['zorder'] = 10\n",
    "NoneType = type(None)\n",
    "for axis,apctype in zip(fg.axes.flat,['Splenocyte','Macrophage']):\n",
    "    a = sns.stripplot(**secondkwargs,data=macrophagePlottingDf[macrophagePlottingDf['APCType'] == apctype],ax=axis,hue='Peptide',x='Peptide',y='v0*t0',hue_order=['N4','Q4','T4','V4','A2','Y3','G4','None'],jitter=False)\n",
    "    if not isinstance(a.legend_, NoneType):\n",
    "        a.legend_.remove()"
   ]
  },
  {
   "cell_type": "code",
   "execution_count": null,
   "metadata": {},
   "outputs": [],
   "source": [
    "fg = sns.catplot(data=macrophagePlottingDf,kind='bar',x='Peptide',y='t0',hue='Peptide',ci='sd',col='APCType',aspect=1.5,col_order=['Splenocyte','Macrophage'],hue_order=['N4','Q4','T4','V4','A2','Y3','G4','None'],dodge=False,capsize=0.05,errwidth=1)\n",
    "secondkwargs ={}\n",
    "secondkwargs['dodge'] = False\n",
    "secondkwargs['edgecolor'] = 'black'\n",
    "secondkwargs['linewidth'] = 0.3\n",
    "secondkwargs['zorder'] = 10\n",
    "NoneType = type(None)\n",
    "for axis,apctype in zip(fg.axes.flat,['Splenocyte','Macrophage']):\n",
    "    a = sns.stripplot(**secondkwargs,data=macrophagePlottingDf[macrophagePlottingDf['APCType'] == apctype],ax=axis,hue='Peptide',x='Peptide',y='t0',hue_order=['N4','Q4','T4','V4','A2','Y3','G4','None'],jitter=False)\n",
    "    if not isinstance(a.legend_, NoneType):\n",
    "        a.legend_.remove()"
   ]
  },
  {
   "cell_type": "code",
   "execution_count": null,
   "metadata": {},
   "outputs": [],
   "source": [
    "fg = sns.relplot(data=macrophagePlottingDf,kind='scatter',x='t0',y='v0',col='APCType',col_order=['Splenocyte','Macrophage'],hue='Peptide',hue_order=['N4','Q4','T4','V4','A2','Y3','G4','None'])\n"
   ]
  },
  {
   "cell_type": "code",
   "execution_count": null,
   "metadata": {},
   "outputs": [],
   "source": [
    "tumorDf = pd.read_pickle('../output/parameter-dataframes/params-thomasRecommendedTraining-Tumor-Constant velocity.pkl')\n",
    "tumorDf['v0*t0'] = tumorDf['v0']*tumorDf['t0']\n",
    "fullPlottingDf = tumorDf.reset_index()\n",
    "print(fullPlottingDf)\n",
    "peptidesToUse = ['N4', 'Q4', 'T4', 'V4', 'A2', 'Y3']"
   ]
  },
  {
   "cell_type": "code",
   "execution_count": null,
   "metadata": {},
   "outputs": [],
   "source": [
    "from matplotlib.lines import Line2D\n",
    "sns.set_context('talk')\n",
    "tumorList = ['B6','B16','MC38']\n",
    "plottingDf = fullPlottingDf[fullPlottingDf['Data'] == 'TumorTimeseries_2'][fullPlottingDf['APC'].isin(tumorList)]\n",
    "print(pd.unique(fullPlottingDf['Data']))\n",
    "metric = 'v0'\n",
    "markers = ['o','v','s','D','.','X','*','P']\n",
    "\n",
    "fg = sns.catplot(data=plottingDf,kind='point',x='Peptide',y=metric,ci='sd',aspect=1.5,dodge=False,capsize=0.05,errwidth=1,markers='_',color='k',join=False,col='APC',col_order=tumorList)\n",
    "secondkwargs ={}\n",
    "secondkwargs['dodge'] = False\n",
    "secondkwargs['edgecolor'] = 'black'\n",
    "secondkwargs['linewidth'] = 0.3\n",
    "secondkwargs['zorder'] = 0\n",
    "secondkwargs['size'] = 8\n",
    "for axis,tumor in zip(fg.axes.flat,tumorList):\n",
    "    tumorPlottingDf = plottingDf[plottingDf['APC'] == tumor]\n",
    "    if 'APC' == 'B6':\n",
    "        concName = 'Concentration'\n",
    "        pulseconcentrations = ['1uM','100nM','10nM','1nM']\n",
    "    else:\n",
    "        concName = 'IFNgPulseConcentration'\n",
    "        pulseconcentrations = ['1nM', '100pM', '10pM', '1pM', '500fM', '250fM', '125fM', '0']\n",
    "    for conc,m in zip(pd.unique(tumorPlottingDf[concName]),markers):\n",
    "        a = sns.stripplot(**secondkwargs,data=tumorPlottingDf[tumorPlottingDf[concName] == conc],ax=axis,hue='Peptide',x='Peptide',y=metric,hue_order=peptidesToUse,jitter=True,marker=m)\n",
    "        if not isinstance(a.legend_, type(None)):\n",
    "            a.legend_.remove()\n",
    "\n",
    "#Add legend manually:\n",
    "legend_elements = []\n",
    "for marker,label in zip(markers,pulseconcentrations):\n",
    "    legend_element = Line2D([0], [0], marker=marker, color='w', label=label, markerfacecolor='k', markersize=8)\n",
    "    legend_elements.append(legend_element)\n",
    "\n",
    "fg.fig.legend(handles=legend_elements,bbox_to_anchor=(1.2, 0.9),frameon=False,title='IFNgPulseConcentration')"
   ]
  },
  {
   "cell_type": "code",
   "execution_count": null,
   "metadata": {},
   "outputs": [],
   "source": [
    "from matplotlib.lines import Line2D\n",
    "sns.set_context('talk')\n",
    "wellFitPeptides = ['N4','Q4','T4','A2','Y3']\n",
    "tumorList = ['B6','B16','MC38']\n",
    "plottingDf = fullPlottingDf[fullPlottingDf['Data'] == 'TumorTimeseries_1'][fullPlottingDf['APC'].isin(tumorList)]\n",
    "plottingDf = plottingDf[plottingDf['Peptide'].isin(wellFitPeptides)]\n",
    "print(pd.unique(fullPlottingDf['Data']))\n",
    "metric = 'theta'\n",
    "markers = ['o','v','s','D','.','X','*','P']\n",
    "\n",
    "fg = sns.catplot(data=plottingDf,kind='point',x='Peptide',y=metric,ci='sd',aspect=1.5,dodge=False,capsize=0.05,errwidth=1,markers='_',color='k',join=False,col='APC',col_order=tumorList,sharey=False)\n",
    "secondkwargs ={}\n",
    "secondkwargs['dodge'] = False\n",
    "secondkwargs['edgecolor'] = 'black'\n",
    "secondkwargs['linewidth'] = 0.3\n",
    "secondkwargs['zorder'] = 0\n",
    "secondkwargs['size'] = 8\n",
    "for axis,tumor in zip(fg.axes.flat,tumorList):\n",
    "    tumorPlottingDf = plottingDf[plottingDf['APC'] == tumor]\n",
    "    if tumor == 'B6':\n",
    "        concName = 'Concentration'\n",
    "        pulseconcentrations = ['1uM','100nM','10nM','1nM']\n",
    "    else:\n",
    "        concName = 'IFNgPulseConcentration'\n",
    "        pulseconcentrations = ['1nM', '100pM', '10pM', '1pM', '500fM', '250fM', '125fM', '0']\n",
    "    print(concName)\n",
    "    for conc,m in zip(pd.unique(tumorPlottingDf[concName]),markers[:len(pd.unique(tumorPlottingDf[concName]))]):\n",
    "        print(conc)\n",
    "        a = sns.stripplot(**secondkwargs,data=tumorPlottingDf[tumorPlottingDf[concName] == conc],ax=axis,hue='Peptide',x='Peptide',y=metric,hue_order=peptidesToUse,jitter=True,marker=m)\n",
    "        if not isinstance(a.legend_, type(None)):\n",
    "            a.legend_.remove()\n",
    "\n",
    "#Add legend manually:\n",
    "legend_elements = []\n",
    "for marker,label in zip(markers,pulseconcentrations):\n",
    "    legend_element = Line2D([0], [0], marker=marker, color='w', label=label, markerfacecolor='k', markersize=8)\n",
    "    legend_elements.append(legend_element)\n",
    "\n",
    "fg.fig.legend(handles=legend_elements,bbox_to_anchor=(1.15, 0.9),frameon=False,title='IFNgPulseConcentration')"
   ]
  },
  {
   "cell_type": "code",
   "execution_count": null,
   "metadata": {},
   "outputs": [],
   "source": [
    "wellFitPeptides = ['N4','Q4','T4','A2','Y3']\n",
    "tumorList = ['B6','B16','MC38']\n",
    "plottingDf = fullPlottingDf[fullPlottingDf['Data'] == 'PeptideTumorComparison_OT1_Timeseries_1'][fullPlottingDf['APC'].isin(tumorList)]\n",
    "plottingDf = plottingDf[plottingDf['Peptide'].isin(wellFitPeptides)]\n",
    "print(pd.unique(fullPlottingDf['Data']))\n",
    "metric = 'theta'\n",
    "markers = ['o','v','s','D','.','X','*','P']\n",
    "\n",
    "fg = sns.catplot(data=plottingDf,kind='point',x='Peptide',y=metric,ci='sd',aspect=1.5,dodge=False,capsize=0.05,errwidth=1,markers='_',color='k',join=False,col='APC',col_order=tumorList,sharey=False)\n",
    "secondkwargs ={}\n",
    "secondkwargs['dodge'] = False\n",
    "secondkwargs['edgecolor'] = 'black'\n",
    "secondkwargs['linewidth'] = 0.3\n",
    "secondkwargs['zorder'] = 0\n",
    "secondkwargs['size'] = 8\n",
    "for axis,tumor in zip(fg.axes.flat,tumorList):\n",
    "    tumorPlottingDf = plottingDf[plottingDf['APC'] == tumor]\n",
    "    if tumor == 'B6':\n",
    "        concName = 'Concentration'\n",
    "        pulseconcentrations = ['1uM','100nM','10nM','1nM']\n",
    "    else:\n",
    "        concName = 'IFNgPulseConcentration'\n",
    "        pulseconcentrations = ['1nM', '100pM', '10pM', '1pM', '500fM', '250fM', '125fM', '0']\n",
    "    print(concName)\n",
    "    for conc,m in zip(pd.unique(tumorPlottingDf[concName]),markers[:len(pd.unique(tumorPlottingDf[concName]))]):\n",
    "        print(conc)\n",
    "        a = sns.stripplot(**secondkwargs,data=tumorPlottingDf[tumorPlottingDf[concName] == conc],ax=axis,hue='Peptide',x='Peptide',y=metric,hue_order=peptidesToUse,jitter=True,marker=m)\n",
    "        if not isinstance(a.legend_, type(None)):\n",
    "            a.legend_.remove()\n",
    "\n",
    "#Add legend manually:\n",
    "legend_elements = []\n",
    "for marker,label in zip(markers,pulseconcentrations):\n",
    "    legend_element = Line2D([0], [0], marker=marker, color='w', label=label, markerfacecolor='k', markersize=8)\n",
    "    legend_elements.append(legend_element)\n",
    "\n",
    "fg.fig.legend(handles=legend_elements,bbox_to_anchor=(1.15, 0.9),frameon=False,title='IFNgPulseConcentration')"
   ]
  },
  {
   "cell_type": "code",
   "execution_count": null,
   "metadata": {},
   "outputs": [],
   "source": []
  }
 ],
 "metadata": {
  "kernelspec": {
   "display_name": "Python 3",
   "language": "python",
   "name": "python3"
  },
  "language_info": {
   "codemirror_mode": {
    "name": "ipython",
    "version": 3
   },
   "file_extension": ".py",
   "mimetype": "text/x-python",
   "name": "python",
   "nbconvert_exporter": "python",
   "pygments_lexer": "ipython3",
   "version": "3.7.6"
  }
 },
 "nbformat": 4,
 "nbformat_minor": 4
}
